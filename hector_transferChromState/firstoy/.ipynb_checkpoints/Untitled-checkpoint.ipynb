{
 "cells": [
  {
   "cell_type": "code",
   "execution_count": 59,
   "id": "4b3c9348-c0aa-4ad4-9bf3-d4a578ecd194",
   "metadata": {},
   "outputs": [],
   "source": [
    "import torch\n",
    "import torch.nn as nn\n",
    "import pyro\n",
    "import pyro.distributions as dist\n",
    "import torch.nn.functional as F"
   ]
  },
  {
   "cell_type": "code",
   "execution_count": 72,
   "id": "fb659604-2636-4cc3-acbc-aa1ea5a3fa35",
   "metadata": {},
   "outputs": [],
   "source": [
    "class Decoder(nn.Module):\n",
    "    def __init__(self, x_dim, z_dim, hidden_dim, dropout=.2):\n",
    "        super().__init__()\n",
    "        self.fc1 = nn.Linear(z_dim, hidden_dim)\n",
    "        self.fc21 = nn.Linear(hidden_dim, x_dim)\n",
    "        self.softplus = nn.Softplus()\n",
    "        self.sigmoid = nn.Sigmoid()\n",
    "        self.dropout = nn.Dropout(dropout)\n",
    "        self.bn = nn.BatchNorm1d(x_dim, affine=True)\n",
    "        \n",
    "    def forward(self, z):\n",
    "        z = self.dropout(z)\n",
    "        hidden = self.softplus(self.fc1(z))\n",
    "        loc_img = self.sigmoid(self.bn(self.fc21(hidden)))\n",
    "        return loc_img\n",
    "    \n",
    "class Encoder(nn.Module):\n",
    "    def __init__(self, x_dim, z_dim, hidden_dim):\n",
    "        super().__init__()\n",
    "        self.fc1 = nn.Linear(x_dim, hidden_dim)\n",
    "        self.fc21 = nn.Linear(hidden_dim, z_dim)\n",
    "        self.fc22 = nn.Linear(hidden_dim, z_dim)\n",
    "        self.softplus = nn.Softplus()\n",
    "        self.x_dim = x_dim\n",
    "        \n",
    "    def forward(self, x):\n",
    "        x = x.reshape(-1, self.x_dim)\n",
    "        hidden = self.softplus(self.fc1(x))\n",
    "        z_loc = self.fc21(hidden)\n",
    "        z_scale = torch.exp(self.fc22(hidden))\n",
    "        return z_loc, z_scale\n",
    "    \n",
    "class VAE(nn.Module):\n",
    "    def __init__(self, x_dim, z_dim=50, hidden_dim=400):\n",
    "        super().__init__()\n",
    "        self.encoder = Encoder(x_dim, z_dim, hidden_dim)\n",
    "        self.decoder = Decoder(x_dim, z_dim, hidden_dim)\n",
    "        self.x_dim = x_dim\n",
    "        self.z_dim = z_dim\n",
    "        \n",
    "    def model(self, x):\n",
    "        pyro.module(\"decoder\", self.decoder)\n",
    "        with pyro.plate(\"data\", x.shape[0]):\n",
    "            z_loc = x.new_zeros(torch.Size((x.shape[0], self.z_dim)))\n",
    "            z_scale = x.new_ones(torch.Size((x.shape[0], self.z_dim)))\n",
    "            logz = pyro.sample('latent', dist.Normal(z_loc, z_scale).to_event(1))\n",
    "            z =  F.softmax(logz, -1)\n",
    "            \n",
    "            loc_img = self.decoder(z)\n",
    "            pyro.sample('obs', dist.Bernoulli(loc_img).to_event(1), obs=x.reshape(-1, self.x_dim))\n",
    "            \n",
    "    def guide(self, x):\n",
    "        pyro.module(\"encoder\", self.encoder)\n",
    "        with pyro.plate('data', x.shape[0]):\n",
    "            z_loc, z_scale = self.encoder(x)\n",
    "            pyro.sample('latent', dist.Normal(z_loc, z_scale).to_event(1))\n",
    "            \n",
    "    def reconstruct_img(self, x):\n",
    "        z_loc, z_scale = self.encoder(x)\n",
    "        z = dist.Normal(z_loc, z_scale).sample()\n",
    "        loc_img = self.decoder(z)\n",
    "        return loc_img"
   ]
  },
  {
   "cell_type": "code",
   "execution_count": 73,
   "id": "d19a17dc-b371-4574-b2d6-912e6731bca2",
   "metadata": {},
   "outputs": [],
   "source": [
    "data = torch.tensor([1.,0,0]).repeat(1000,1)\n",
    "data[0:5,:]\n",
    "train_loader = torch.utils.data.DataLoader(data, batch_size=10, shuffle=True)\n",
    "test_loader = torch.utils.data.DataLoader(data, batch_size=10, shuffle=True)"
   ]
  },
  {
   "cell_type": "code",
   "execution_count": 74,
   "id": "b5ebe832-90f3-4e4f-9221-90d338fbe3b5",
   "metadata": {},
   "outputs": [],
   "source": [
    "from pyro.optim import Adam\n",
    "from pyro.infer import SVI, Trace_ELBO"
   ]
  },
  {
   "cell_type": "code",
   "execution_count": 75,
   "id": "872a9f4c-6080-476d-816e-f71bb72d9da7",
   "metadata": {},
   "outputs": [],
   "source": [
    "def train(svi, train_loader):\n",
    "    epoch_loss = 0.\n",
    "    for x in train_loader:\n",
    "        epoch_loss += svi.step(x)\n",
    "        \n",
    "    return epoch_loss / len(train_loader.dataset)\n",
    "\n",
    "def evaluate(svi, test_loader):\n",
    "    test_loss = 0.\n",
    "    for x in test_loader:\n",
    "        test_loss += svi.evaluate_loss(x)\n",
    "        \n",
    "    return test_loss / len(test_loader.dataset)"
   ]
  },
  {
   "cell_type": "code",
   "execution_count": 76,
   "id": "5656bed6-f369-43e6-a3f0-f5748874d8a5",
   "metadata": {},
   "outputs": [],
   "source": [
    "vae = VAE(x_dim=3)\n",
    "optimizer = Adam({'lr': 1.0e-3})\n",
    "svi = SVI(vae.model, vae.guide, optimizer, loss=Trace_ELBO())"
   ]
  },
  {
   "cell_type": "code",
   "execution_count": 77,
   "id": "53fe36c7-46f5-4ced-bfc8-c2c2db9b2783",
   "metadata": {},
   "outputs": [
    {
     "name": "stdout",
     "output_type": "stream",
     "text": [
      "17.014805236816407\n"
     ]
    },
    {
     "data": {
      "text/plain": [
       "16.633094055175782"
      ]
     },
     "execution_count": 77,
     "metadata": {},
     "output_type": "execute_result"
    }
   ],
   "source": [
    "print(train(svi, train_loader))\n",
    "evaluate(svi, test_loader)"
   ]
  },
  {
   "cell_type": "code",
   "execution_count": 78,
   "id": "fd0087ce-6a27-4602-b170-213b13c58626",
   "metadata": {},
   "outputs": [
    {
     "name": "stdout",
     "output_type": "stream",
     "text": [
      "[epoch 000] average test loss: 2.3459\n",
      "[epoch 005] average test loss: 1.4520\n",
      "[epoch 010] average test loss: 0.9930\n",
      "[epoch 015] average test loss: 0.7336\n",
      "[epoch 020] average test loss: 0.5588\n",
      "[epoch 025] average test loss: 0.4683\n",
      "[epoch 030] average test loss: 0.3519\n",
      "[epoch 035] average test loss: 0.3385\n",
      "[epoch 040] average test loss: 0.2559\n",
      "[epoch 045] average test loss: 0.1931\n",
      "[epoch 050] average test loss: 0.1909\n",
      "[epoch 055] average test loss: 0.2020\n",
      "[epoch 060] average test loss: 0.1798\n",
      "[epoch 065] average test loss: 0.1326\n",
      "[epoch 070] average test loss: 0.1466\n",
      "[epoch 075] average test loss: 0.1247\n",
      "[epoch 080] average test loss: 0.0860\n",
      "[epoch 085] average test loss: 0.1146\n",
      "[epoch 090] average test loss: 0.1317\n",
      "[epoch 095] average test loss: 0.1191\n"
     ]
    }
   ],
   "source": [
    "pyro.clear_param_store()\n",
    "vae = VAE(x_dim=3, z_dim=4)\n",
    "adam_args = {'lr': 1.0e-3}\n",
    "optimizer = Adam(adam_args)\n",
    "svi = SVI(vae.model, vae.guide, optimizer, loss=Trace_ELBO())\n",
    "\n",
    "train_elbo = []\n",
    "test_elbo = []\n",
    "for epoch in range(100):\n",
    "    epoch_train_elbo = train(svi, train_loader)\n",
    "    train_elbo.append(-epoch_train_elbo)\n",
    "    if epoch % 5 == 0:\n",
    "        epoch_test_elbo = train(svi, test_loader)\n",
    "        test_elbo.append(-epoch_test_elbo)\n",
    "        print(\"[epoch %03d] average test loss: %.4f\" % (epoch, epoch_test_elbo))"
   ]
  },
  {
   "cell_type": "code",
   "execution_count": 79,
   "id": "b52bf00d-820e-42a8-a4c0-4d6e8562e8f9",
   "metadata": {},
   "outputs": [
    {
     "data": {
      "text/plain": [
       "tensor([[0.9979, 0.0021, 0.0020],\n",
       "        [0.9979, 0.0021, 0.0019],\n",
       "        [0.9979, 0.0021, 0.0023]], grad_fn=<SigmoidBackward>)"
      ]
     },
     "execution_count": 79,
     "metadata": {},
     "output_type": "execute_result"
    }
   ],
   "source": [
    "vae.reconstruct_img(data[0:3,:])"
   ]
  },
  {
   "cell_type": "code",
   "execution_count": null,
   "id": "44d13ab6-0f8a-4ae6-b545-96b26844937e",
   "metadata": {},
   "outputs": [],
   "source": []
  }
 ],
 "metadata": {
  "kernelspec": {
   "display_name": "Python 3 (ipykernel)",
   "language": "python",
   "name": "python3"
  },
  "language_info": {
   "codemirror_mode": {
    "name": "ipython",
    "version": 3
   },
   "file_extension": ".py",
   "mimetype": "text/x-python",
   "name": "python",
   "nbconvert_exporter": "python",
   "pygments_lexer": "ipython3",
   "version": "3.9.5"
  }
 },
 "nbformat": 4,
 "nbformat_minor": 5
}
