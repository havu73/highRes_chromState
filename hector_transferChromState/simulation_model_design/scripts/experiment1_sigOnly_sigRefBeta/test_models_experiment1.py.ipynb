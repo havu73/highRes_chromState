{
 "cells": [
  {
   "cell_type": "code",
   "execution_count": 1,
   "id": "a585bd9a",
   "metadata": {},
   "outputs": [],
   "source": [
    "import pyro\n",
    "import pyro.distributions as dist\n",
    "import torch\n",
    "import pandas as pd\n",
    "import torch\n",
    "import torch.nn as nn\n",
    "import pyro\n",
    "import pyro.distributions as dist\n",
    "import torch.nn.functional as F\n",
    "import generate_toy_data as data\n",
    "import math\n",
    "from tqdm import trange\n",
    "\n",
    "# import classes\n",
    "from pyro.infer import SVI, TraceMeanField_ELBO\n",
    "import model_signals_only as MSO\n",
    "import model_signals_only_fixedBeta as MSB\n",
    "import model_signals_and_refState as MSR\n",
    "import model_signals_refStates_fixedBeta as MSRB\n",
    "\n",
    "# setting up devices\n",
    "seed = 0\n",
    "torch.manual_seed(seed)\n",
    "pyro.set_rng_seed(seed)\n",
    "device = torch.device(\"cuda:0\" if torch.cuda.is_available() else \"cpu\")\n"
   ]
  },
  {
   "cell_type": "code",
   "execution_count": 3,
   "id": "3f9a9ef0",
   "metadata": {},
   "outputs": [],
   "source": [
    "num_bins = 10000\n",
    "num_references = 3\n",
    "num_groups = 3\n",
    "state_vary_rate = 0.01\n",
    "num_signals= 3\n",
    "num_states = 3\n",
    "output_folder = '../../experiments/strict_genData_circularState/b{}_r{}_m{}_s{}'\\\n",
    ".format(num_bins, num_references, num_signals, num_states)\n",
    "helper.make_dir(args.output_folder)"
   ]
  },
  {
   "cell_type": "code",
   "execution_count": null,
   "id": "d3345408",
   "metadata": {},
   "outputs": [],
   "source": [
    "generator_params = {'num_bins': num_bins, 'num_references': num_references, 'num_groups': num_groups, \\\n",
    "                    'state_vary_rate': state_vary_rate, 'num_signals': num_signals, 'num_states': num_states}\n",
    "generator = data.CircularStateGenerator(**generator_params, high_w=100)\n",
    "'''\n",
    "M: # regions\n",
    "N: # bins per region\n",
    "L: # signals (marks)\n",
    "alpha: params of dirichlet prior over reference epigenomics\n",
    "beta: ref --> sample state categorical distribution\n",
    "p: state --> signal bernoulli distribution \n",
    "r: reference state at each bin. one-hot encoding, matrix size : #bins * #ref * #states\n",
    "theta: the mixture probabilities of reference epigenome\n",
    "'''\n",
    "m = generator.get_sampled_signals()\n",
    "r = generator.get_ref_state_indicators()\n",
    "p = generator.params['p']\n",
    "# this will save the simulated data of state assignment \n",
    "# (ground truth state assignment probabilities)\n",
    "generator.save_collapsed_theta(os.path.join(args.output_folder, 'collapsed_theta.txt.gz'))\n"
   ]
  },
  {
   "cell_type": "markdown",
   "id": "723ff866",
   "metadata": {},
   "source": [
    "Setting up all the models "
   ]
  },
  {
   "cell_type": "code",
   "execution_count": null,
   "id": "24cd92a0",
   "metadata": {},
   "outputs": [],
   "source": [
    "hidden = 32\n",
    "dropout = 0.2\n",
    "# declare 4 models with similar parameters\n",
    "m_SigOnly = MSO.model_Signals(num_signals, num_references, num_states, hidden, dropout)\n",
    "m_SigBeta = MSB.model_signals_only_fixedBeta(num_signals, num_references, num_states, hidden, dropout, p)\n",
    "m_SigRef = MSR.model_signals_refStates(num_signals, num_references, num_states, hidden, dropout)\n",
    "m_SigRefBeta = MSRB.model_signals_refStates_fixedBeta(num_signals, num_references, num_states, hidden, dropout, p)\n",
    "m_SigOnly.to(device)\n",
    "m_SigBeta.to(device)\n",
    "m_SigRef.to(device)\n",
    "m_SigRefBeta.to(device)\n",
    "print(isinstance(m_SigOnly, (type, MSO.model_Signals)))\n",
    "print(isinstance(m_SigBeta, (type, MSB.model_signals_only_fixedBeta)))\n",
    "print(isinstance(m_SigRef, (type, MSR.model_signals_refStates)))\n",
    "print(isinstance(m_SigRefBeta, (type, MSRB.model_signals_refStates_fixedBeta)))"
   ]
  },
  {
   "cell_type": "markdown",
   "id": "c3cf21e9",
   "metadata": {},
   "source": [
    "Define a function to learn and reconstruct the data, and gives the results of ratios of the data that gets reconstructed"
   ]
  },
  {
   "cell_type": "code",
   "execution_count": null,
   "id": "ed00a90d",
   "metadata": {},
   "outputs": [],
   "source": [
    "def learn_and_reconstruct_input(state_model, m, r, p, posterior_fn):\n",
    "    batch_size = 200\n",
    "    learning_rate = 1e-3\n",
    "    num_epochs = 1000\n",
    "    pyro.clear_param_store()\n",
    "    optimizer = pyro.optim.Adam({\"lr\": learning_rate})\n",
    "    num_batches = int(math.ceil(m.shape[0] / batch_size))\n",
    "    bar = trange(num_epochs)\n",
    "    withRef = True # some models needs reference states data, others don't\n",
    "    if isinstance(state_model, (type, MSO.model_Signals)) or isinstance(state_model, (type, MSB.model_signals_only_fixedBeta)):\n",
    "        withRef = False \n",
    "    svi = SVI(state_model.model, state_model.guide, optimizer, loss=TraceMeanField_ELBO())\n",
    "    for epoch in bar:\n",
    "        running_loss = 0.0\n",
    "        for i in range(num_batches):\n",
    "            batch_m = m[i * batch_size:(i+1) * batch_size, :]\n",
    "            if withRef:\n",
    "                batch_r = r[i * batch_size:(i+1) * batch_size, :, :]\n",
    "                loss = svi.step(batch_m, batch_r)\n",
    "            else:\n",
    "                loss = svi.step(batch_m)\n",
    "            running_loss += loss / batch_m.size(0)\n",
    "    bar.set_postfix(epoch_loss='{:.2e}'.format(running_loss))\n",
    "    if withRef:\n",
    "        ratio_m_CR, ratio_r_CR = state_model.get_percentage_correct_reconstruct(m,r)\n",
    "        state_model.write_predicted_state_assignment(m, r, posterior_fn)\n",
    "        return ratio_m_CR, ratio_r_CR\n",
    "    else:\n",
    "        ratio_m_CR = state_model.get_percentage_correct_reconstruct(m)\n",
    "        state_model.write_predicted_state_assignment(m, posterior_fn)\n",
    "        return ratio_m_CR, 0 # return 0 as a placeholder for ratio_r_CR that is not applicable for this case\n"
   ]
  },
  {
   "cell_type": "markdown",
   "id": "8f96f90e",
   "metadata": {},
   "source": [
    "REPORT THE OUTPUT DATA"
   ]
  },
  {
   "cell_type": "code",
   "execution_count": null,
   "id": "0b1067fd",
   "metadata": {},
   "outputs": [],
   "source": [
    "result_df = pd.DataFrame(columns = ['model', 'num_signals', 'num_references', 'num_states', 'hidden', 'dropout', 'ratio_m_CR', 'ratio_r_CR'])\n",
    "def get_one_line_to_report(state_model, model_name):\n",
    "    results = [model_name, state_model.num_signals, state_model.num_references, state_model.num_states, state_model.hidden, state_model.dropout]\n",
    "    posterior_fn = os.path.join(args.output_folder, '{}_pos.txt.gz'.format(model_name))\n",
    "    ratio_m_CR, ratio_r_CR = learn_and_reconstruct_input(state_model, m, r, p, posterior_fn)\n",
    "    results += [ratio_m_CR, ratio_r_CR]\n",
    "    return results\n",
    "\n",
    "result_df.loc[0] = get_one_line_to_report(m_SigOnly, 'SigOnly')\n",
    "result_df.loc[1] = get_one_line_to_report(m_SigBeta, 'SigBeta')\n",
    "result_df.loc[2] = get_one_line_to_report(m_SigRef, 'SigRef')\n",
    "result_df.loc[3] = get_one_line_to_report(m_SigRefBeta, 'SigRefBeta')\n",
    "report_fn = os.path.join(args.output_folder, 'report_ratio_CR.txt')\n",
    "result_df.to_csv(report_fn, header = True, index = False, sep = '\\t')"
   ]
  },
  {
   "cell_type": "code",
   "execution_count": null,
   "id": "747ec3b7",
   "metadata": {},
   "outputs": [],
   "source": [
    "# the fn that contains posterior probabilities of state assignments at different models\n",
    "truth_fn = os.path.join(output_folder,'collapsed_theta.txt.gz')\n",
    "sigOnly_fn = os.path.join(output_folder, 'SigOnly_pos.txt.gz')\n",
    "sigBeta_fn = os.path.join(output_folder, 'SigBeta_pos.txt.gz')\n",
    "sigRefBeta_fn = os.path.join(output_folder, 'SigRefBeta_c_pos.txt.gz')\n",
    "sigRef_fn = os.path.join(output_folder, 'SigRef_c_pos.txt.gz')"
   ]
  },
  {
   "cell_type": "code",
   "execution_count": null,
   "id": "79c5138f",
   "metadata": {},
   "outputs": [],
   "source": [
    "def read_state_df(fn, model_name):\n",
    "    df = pd.read_csv(fn, header = 0, index_col = None, sep = '\\t')\n",
    "    df['max_prob'] = df.apply(lambda x: np.max(x[:-1]), axis = 1)\n",
    "    df.columns = list(map(lambda x: '{}|{}'.format(model_name, x), df.columns))\n",
    "    return df\n",
    "truth_df = read_state_df(truth_fn, 'truth')\n",
    "sigOnly_df = read_state_df(sigOnly_fn, 'sigOnly')\n",
    "sigBeta_df = read_state_df(sigBeta_fn, 'sigBeta')\n",
    "sigRefBeta_df = read_state_df(sigRefBeta_fn, 'sigRefBetaC')\n",
    "sigRef_df = read_state_df(sigRef_fn, 'sigRefC')\n",
    "all_df = pd.concat([truth_df, sigOnly_df, sigBeta_df, sigRefBeta_df, sigRef_df], axis = 1)"
   ]
  },
  {
   "cell_type": "code",
   "execution_count": null,
   "id": "481d4ed6",
   "metadata": {},
   "outputs": [],
   "source": [
    "# have a look at the data\n",
    "all_df.head(30)"
   ]
  },
  {
   "cell_type": "markdown",
   "id": "ff2ddc08",
   "metadata": {},
   "source": [
    "Plots of the distribution of the maximum probabilities of state assignments across all genomic position"
   ]
  },
  {
   "cell_type": "code",
   "execution_count": null,
   "id": "08c865c7",
   "metadata": {},
   "outputs": [],
   "source": [
    "# draw the histogram of max_probs for the different models\n",
    "model_name_list = ['truth', 'sigRefBetaC', 'sigRefC', 'sigOnly', 'sigBeta']\n",
    "plot_nrow = 1\n",
    "plot_ncol = 3\n",
    "fig, axes = plt.subplots(ncols = plot_ncol, nrows = plot_nrow, figsize = (9,6))\n",
    "for model_index, model_name in enumerate(model_name_list[:3]):\n",
    "    ax = (axes.flat)[model_index] \n",
    "    sns.histplot(all_df['{}|max_prob'.format(model_name)], kde= True, ax = ax).set_title(model_name)\n",
    "fig.tight_layout()\n",
    "plt.show()"
   ]
  },
  {
   "cell_type": "markdown",
   "id": "a5ab286a",
   "metadata": {},
   "source": [
    "Plots of the confusion matrix between the true state assignment (rows) and the predicted state assignment (columns)"
   ]
  },
  {
   "cell_type": "code",
   "execution_count": null,
   "id": "8148c894",
   "metadata": {},
   "outputs": [],
   "source": [
    "model_name_list = ['truth', 'sigOnly', 'sigBeta', 'sigRefBetaC', 'sigRefC']\n",
    "# draw the confusion matrix\n",
    "state_df = all_df.filter(regex='max_state',axis=1)\n",
    "# select columns ending with 'max_state'\n",
    "plot_nrow = 2\n",
    "plot_ncol = 2\n",
    "fig, axes = plt.subplots(ncols = plot_ncol, nrows = plot_nrow, figsize = (9,9))\n",
    "for model_index, model_name in enumerate(model_name_list[1:]):\n",
    "    colnames = ['truth|max_state', '{}|max_state'.format(model_name)]\n",
    "    df = state_df[colnames]\n",
    "    df = df.groupby(colnames).size().to_frame(name = 'size').reset_index()\n",
    "    df = df.pivot(colnames[0], colnames[1], 'size')\n",
    "    df = df.div(df.sum(axis = 1), axis = 0) # row normalize\n",
    "    ax = (axes.flat)[model_index] \n",
    "    sns.heatmap(df, cbar=True, linewidths=2,vmax=1, vmin=0, square=True, cmap='Blues', ax=ax).set_title(model_name)\n",
    "fig.tight_layout()\n",
    "plt.show()"
   ]
  }
 ],
 "metadata": {
  "kernelspec": {
   "display_name": "Python 3 (ipykernel)",
   "language": "python",
   "name": "python3"
  },
  "language_info": {
   "codemirror_mode": {
    "name": "ipython",
    "version": 3
   },
   "file_extension": ".py",
   "mimetype": "text/x-python",
   "name": "python",
   "nbconvert_exporter": "python",
   "pygments_lexer": "ipython3",
   "version": "3.7.10"
  }
 },
 "nbformat": 4,
 "nbformat_minor": 5
}
