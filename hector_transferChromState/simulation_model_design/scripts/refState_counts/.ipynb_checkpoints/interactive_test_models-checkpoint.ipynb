{
 "cells": [
  {
   "cell_type": "code",
   "execution_count": 8,
   "id": "671db952",
   "metadata": {},
   "outputs": [],
   "source": [
    "import pyro\n",
    "import pyro.distributions as dist\n",
    "import torch\n",
    "import numpy as np\n",
    "import pandas as pd\n",
    "import torch\n",
    "import torch.nn as nn\n",
    "import pyro\n",
    "import pyro.distributions as dist\n",
    "import torch.nn.functional as F\n",
    "import generate_data_realSce as data\n",
    "import math\n",
    "from tqdm import trange\n",
    "\n",
    "# import classes\n",
    "from pyro.infer import SVI, TraceMeanField_ELBO\n",
    "from no_beta import model1\n",
    "from no_beta import model2\n",
    "from no_beta import model3\n",
    "from no_beta import model4\n",
    "\n",
    "# classes for data visualization\n",
    "import seaborn as sns\n",
    "import matplotlib.pyplot as plt\n",
    "%matplotlib inline\n",
    "import helper\n",
    "import os\n",
    "####### SETTING UP DEVICES #######\n",
    "seed = 0\n",
    "torch.manual_seed(seed)\n",
    "pyro.set_rng_seed(seed)\n",
    "device = torch.device(\"cuda:0\" if torch.cuda.is_available() else \"cpu\")\n"
   ]
  },
  {
   "cell_type": "code",
   "execution_count": 3,
   "id": "711d7163",
   "metadata": {},
   "outputs": [],
   "source": [
    "num_bins = 10000\n",
    "num_signals = 3 # raw signals is 5, but we will only provide 3 marks to the models\n",
    "num_obs_signals = 3\n",
    "num_references = 15\n",
    "num_groups = 5\n",
    "num_ref_per_groups = int(num_references/num_groups)\n",
    "num_states = 8"
   ]
  },
  {
   "cell_type": "code",
   "execution_count": 15,
   "id": "8a27fc80",
   "metadata": {},
   "outputs": [
    {
     "name": "stdout",
     "output_type": "stream",
     "text": [
      "Folder../../../../experiments/strict_genData_realScen/counts/test_multiple_models/b200_e1_s1_r30_c15_h32 is already created\n"
     ]
    }
   ],
   "source": [
    "batch_size = 200\n",
    "num_epochs = 1#000\n",
    "hidden_sig = 1\n",
    "hidden_ref = 30\n",
    "hidden_comb = 15\n",
    "hidden = 32 # this is only used in models where the encoder does not include encode\n",
    "# R and M separately (no use of num_hidden_sig and num_hidden_ref and num_hidden_comb)\n",
    "dropout = 0.2\n",
    "output_folder = '../../../../experiments/strict_genData_realScen/\\\n",
    "counts/test_multiple_models/b{}_e{}_s{}_r{}_c{}_h{}'\\\n",
    ".format(batch_size, num_epochs, num_hidden_sig, num_hidden_ref, num_hidden_comb, num_hidden)\n",
    "helper.make_dir(output_folder)"
   ]
  },
  {
   "cell_type": "code",
   "execution_count": 16,
   "id": "58049fb1",
   "metadata": {},
   "outputs": [],
   "source": [
    "#### STEP 1: GENERATE DATA ####\n",
    "generator = data.real_simulation_mark_sampled_state() \n",
    "'''\n",
    "M: # regions\n",
    "N: # bins per region\n",
    "L: # signals (marks)\n",
    "alpha: params of dirichlet prior over reference epigenomics\n",
    "beta: ref --> sample state categorical distribution\n",
    "p: state --> signal bernoulli distribution \n",
    "r: reference state at each bin. one-hot encoding, matrix size : #bins * #ref * #states\n",
    "theta: the mixture probabilities of reference epigenome\n",
    "'''\n",
    "raw_m = generator.get_sampled_signals() # num_bins, # num_signals (5), but in the data given to the model, \n",
    "# we will only include the first 3 signals\n",
    "m=raw_m[:,:num_obs_signals]\n",
    "r = generator.get_ref_state_counts().float()\n",
    "raw_p = generator.params['p']\n",
    "p = raw_p[:,:num_obs_signals] # states, signals (5), but in the data given to the model, we will only include the first 3 models\n",
    "# this will save the simulated data of state assignment \n",
    "# (ground truth state assignment probabilities)\n",
    "generator.save_collapsed_theta(os.path.join(output_folder, 'collapsed_theta.txt.gz'))\n"
   ]
  },
  {
   "cell_type": "code",
   "execution_count": 17,
   "id": "effd0c3e",
   "metadata": {},
   "outputs": [
    {
     "name": "stdout",
     "output_type": "stream",
     "text": [
      "True\n",
      "True\n",
      "True\n",
      "True\n"
     ]
    }
   ],
   "source": [
    "#### STEP 2: RUN DIFFERENT MODELS #####\n",
    "m_one = model1.Model_one(num_signals, num_groups, num_ref_per_groups, num_states, hidden, dropout)\n",
    "m_two = model2.Model_two(num_signals, num_groups, num_ref_per_groups, num_states, hidden, dropout)\n",
    "m_three = model3.Model_three(num_signals, num_groups, num_ref_per_groups, num_states, hidden_sig, hidden_ref, hidden_comb, dropout)\n",
    "m_four = model4.Model_four(num_signals, num_groups, num_ref_per_groups, num_states, hidden_sig, hidden_ref, hidden_comb, dropout)\n",
    "m_one.to(device)\n",
    "m_two.to(device)\n",
    "m_three.to(device)\n",
    "m_four.to(device)\n",
    "print(isinstance(m_one, (type, model1.Model_one)))\n",
    "print(isinstance(m_two, (type, model2.Model_two)))\n",
    "print(isinstance(m_three, (type, model3.Model_three)))\n",
    "print(isinstance(m_four, (type, model4.Model_four)))\n"
   ]
  },
  {
   "cell_type": "code",
   "execution_count": 29,
   "id": "0f451342",
   "metadata": {},
   "outputs": [],
   "source": [
    "# define a function to learn and reconstruct the data, and gives the results of ratios of the data that gets reconstructed\n",
    "def learn_and_reconstruct_input(state_model, m, r, p, posterior_fn):\n",
    "    learning_rate = 1e-3\n",
    "    pyro.clear_param_store()\n",
    "    optimizer = pyro.optim.Adam({\"lr\": learning_rate})\n",
    "    num_batches = int(math.ceil(m.shape[0] / batch_size))\n",
    "    bar = trange(num_epochs)\n",
    "    svi = SVI(state_model.model, state_model.guide, optimizer, loss=TraceMeanField_ELBO())\n",
    "    running_loss_list = []\n",
    "    for epoch in bar:\n",
    "        running_loss = 0.0\n",
    "        for i in range(num_batches):\n",
    "            batch_m = m[i * batch_size:(i+1) * batch_size, :]\n",
    "            batch_r = r[i * batch_size:(i+1) * batch_size, :, :]\n",
    "            loss = svi.step(batch_m, batch_r)\n",
    "            running_loss += loss / batch_m.size(0)\n",
    "        running_loss_list.append(running_loss)\n",
    "    bar.set_postfix(epoch_loss='{:.2e}'.format(running_loss))\n",
    "    ratio_m_CR, ratio_r_CR = state_model.get_percentage_correct_reconstruct(m,r)\n",
    "    state_model.write_predicted_state_assignment(m, r, posterior_fn)\n",
    "    return ratio_m_CR, ratio_r_CR, running_loss_list\n",
    "    \n",
    "\n",
    "#### REPORT THE DATA ######\n",
    "def get_one_line_to_report(state_model, model_name):\n",
    "    results = [model_name, state_model.num_signals, state_model.num_groups, state_model.num_ref_per_groups, state_model.num_states, num_hidden_sig, num_hidden_ref, num_hidden, state_model.dropout]\n",
    "    posterior_fn = os.path.join(output_folder, '{}_pos.txt.gz'.format(model_name))\n",
    "    ratio_m_CR, ratio_r_CR, running_loss_list = learn_and_reconstruct_input(state_model, m, r, p, posterior_fn)\n",
    "    results += [ratio_m_CR, ratio_r_CR]\n",
    "    loss_fn = os.path.join(output_folder, '{}_loss.txt.gz'.format(model_name))\n",
    "    loss_df = pd.Series(running_loss_list)\n",
    "    loss_df.to_csv(loss_fn, index= False, header = False, compression = 'gzip', sep = '\\n')\n",
    "    return results\n",
    "\n",
    "def call_models_and_report_reconstruction():\n",
    "    result_df = pd.DataFrame(columns = ['model', 'num_signals', 'num_groups', 'num_ref_per_groups', 'num_states', 'hidden_sig', 'hidden_ref', 'hidden', 'dropout', 'ratio_m_CR', 'ratio_r_CR'])\n",
    "    result_df.loc[0] = get_one_line_to_report(m_one, 'm_one')\n",
    "    result_df.loc[1] = get_one_line_to_report(m_two, 'm_two')\n",
    "    result_df.loc[2] = get_one_line_to_report(m_three, 'm_three')\n",
    "    result_df.loc[3] = get_one_line_to_report(m_four, 'm_four')\n",
    "    report_fn = os.path.join(output_folder, 'report_ratio_CR.txt')\n",
    "    result_df.to_csv(report_fn, header = True, index = False, sep = '\\t')\n",
    "\n",
    "#### CALCULATING THE MODEL PERFORMANCE BASED ON STATE ASSIGNMENTS COMPARISION ####\n",
    "def read_state_df(fn, model_name):\n",
    "    df = pd.read_csv(fn, header = 0, index_col = None, sep = '\\t')\n",
    "    df['max_prob'] = df.apply(lambda x: np.max(x[:-1]), axis = 1)\n",
    "    df.columns = list(map(lambda x: '{}|{}'.format(model_name, x), df.columns))\n",
    "    return df\n",
    "\n",
    "def report_result_latent_state():\n",
    "    truth_fn = os.path.join(output_folder, 'collapsed_theta.txt.gz')\n",
    "    truth_df = read_state_df(truth_fn, 'truth')\n",
    "    model_name_list = ['m_one', 'm_two', 'm_three', 'm_four']\n",
    "    model_fn_list = list(map(lambda x: os.path.join(output_folder, '{}_pos.txt.gz'.format(x)), model_name_list))\n",
    "    model_df_list = list(map(lambda x: read_state_df(model_fn_list[x], model_name_list[x]), range(len(model_name_list))))\n",
    "    all_df  = pd.concat([truth_df] + model_df_list, axis = 1)\n",
    "    state_df = all_df.filter(regex='state',axis=1) # get all columns ending with state\n",
    "    plot_nrow = 2\n",
    "    plot_ncol = 2\n",
    "    fig, axes = plt.subplots(ncols = plot_ncol, nrows = plot_nrow, figsize = (9,9)) \n",
    "    for model_index, model_name in enumerate(model_name_list):\n",
    "        colnames = ['truth|state', '{}|max_state'.format(model_name)]\n",
    "        df = state_df[colnames]\n",
    "        df = df.groupby(colnames).size().to_frame(name = 'size').reset_index()\n",
    "        df = df.pivot(colnames[0], colnames[1], 'size')\n",
    "        df = df.div(df.sum(axis = 1), axis = 0) # row normalize\n",
    "        ax = (axes.flat)[model_index] \n",
    "        sns.heatmap(df, cbar=True, linewidths=2,vmax=1, vmin=0, square=True, cmap='Blues', ax=ax).set_title(model_name)\n",
    "    fig.tight_layout()\n",
    "    plt.show()\n",
    "    plt.savefig(os.path.join(output_folder, 'confusion_matrix.png'))\n",
    "\n"
   ]
  },
  {
   "cell_type": "code",
   "execution_count": 30,
   "id": "e886a8c8",
   "metadata": {},
   "outputs": [
    {
     "data": {
      "image/png": "[encoded data removed]",
      "text/plain": [
       "<Figure size 648x648 with 8 Axes>"
      ]
     },
     "metadata": {
      "needs_background": "light"
     },
     "output_type": "display_data"
    },
    {
     "data": {
      "text/plain": [
       "<Figure size 432x288 with 0 Axes>"
      ]
     },
     "metadata": {},
     "output_type": "display_data"
    }
   ],
   "source": [
    "call_models_and_report_reconstruction()"
   ]
  },
  {
   "cell_type": "code",
   "execution_count": null,
   "id": "1fd0eb7e",
   "metadata": {},
   "outputs": [],
   "source": [
    "report_result_latent_state()"
   ]
  }
 ],
 "metadata": {
  "kernelspec": {
   "display_name": "Python 3 (ipykernel)",
   "language": "python",
   "name": "python3"
  },
  "language_info": {
   "codemirror_mode": {
    "name": "ipython",
    "version": 3
   },
   "file_extension": ".py",
   "mimetype": "text/x-python",
   "name": "python",
   "nbconvert_exporter": "python",
   "pygments_lexer": "ipython3",
   "version": "3.7.10"
  }
 },
 "nbformat": 4,
 "nbformat_minor": 5
}
